{
 "cells": [
  {
   "cell_type": "code",
   "execution_count": 1,
   "metadata": {},
   "outputs": [],
   "source": [
    "import os\n",
    "import cv2\n",
    "import numpy as np"
   ]
  },
  {
   "cell_type": "code",
   "execution_count": 3,
   "metadata": {},
   "outputs": [],
   "source": [
    "def video_to_keyframes(video_path, image_folder_path, extension = \".png\", target_fps = 15):\n",
    "    captured_video = cv2.VideoCapture(video_path)\n",
    "    total_frames = captured_video.get(cv2.CAP_PROP_FRAME_COUNT)\n",
    "    fps = round(captured_video.get(cv2.CAP_PROP_FPS))\n",
    "    skip_size = round(fps/target_fps)\n",
    "\n",
    "    curr_frame = 0\n",
    "    curr_recorded_frame = 0\n",
    "    while True:\n",
    "        ret, frame = captured_video.read()\n",
    "        if not ret:\n",
    "            break\n",
    "        elif curr_frame % skip_size == 0:\n",
    "            store_location = image_folder_path + \"0\"*(7-len(str(curr_recorded_frame))) + str(curr_recorded_frame) + extension\n",
    "            cv2.imwrite(store_location, frame)\n",
    "            curr_recorded_frame+=1\n",
    "        curr_frame+=1\n",
    "    \n",
    "    captured_video.release()"
   ]
  },
  {
   "cell_type": "code",
   "execution_count": 4,
   "metadata": {},
   "outputs": [],
   "source": [
    "def keyframes_to_video(image_folder_path, video_path, fps):\n",
    "    root_image_folder = image_folder_path\n",
    "    images_path = [root_image_folder+img_path for img_path in os.listdir(root_image_folder)]\n",
    "    images_path.sort()\n",
    "    first_frame = cv2.imread(images_path[0])\n",
    "    height, width, color_channels = first_frame.shape\n",
    "\n",
    "    compiled_video = cv2.VideoWriter(video_path, fourcc = cv2.VideoWriter_fourcc('D','I','V','X'), fps = fps, frameSize = (width, height))\n",
    "    for image in images_path:\n",
    "        compiled_video.write(cv2.imread(image))\n",
    "    \n",
    "    compiled_video.release()"
   ]
  }
 ],
 "metadata": {
  "kernelspec": {
   "display_name": "pytorch",
   "language": "python",
   "name": "python3"
  },
  "language_info": {
   "codemirror_mode": {
    "name": "ipython",
    "version": 3
   },
   "file_extension": ".py",
   "mimetype": "text/x-python",
   "name": "python",
   "nbconvert_exporter": "python",
   "pygments_lexer": "ipython3",
   "version": "3.8.18"
  }
 },
 "nbformat": 4,
 "nbformat_minor": 2
}
